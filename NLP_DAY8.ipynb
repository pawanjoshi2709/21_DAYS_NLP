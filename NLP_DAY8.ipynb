{
  "cells": [
    {
      "cell_type": "code",
      "execution_count": 1,
      "metadata": {
        "id": "TkbTDCkqKOFo"
      },
      "outputs": [],
      "source": [
        "import numpy as np\n",
        "from keras.preprocessing.text import Tokenizer"
      ]
    },
    {
      "cell_type": "code",
      "execution_count": 2,
      "metadata": {
        "id": "Gf4z523dKx7H"
      },
      "outputs": [],
      "source": [
        "docs = ['recurrent neural network',\n",
        "\t\t'neural network',\n",
        "\t\t'artificial neural',\n",
        "\t\t'connections between nodes',\n",
        "\t\t'can create a cycle',\n",
        "\t\t'allowing output',\n",
        "\t\t'some nodes to affect subsequent',\n",
        "\t\t'exhibit temporal',\n",
        "\t\t'dynamic behavior',\n",
        "\t\t'type of Neural Network',\n",
        "    'affect subsequent']"
      ]
    },
    {
      "cell_type": "code",
      "execution_count": 3,
      "metadata": {
        "id": "LIDHTOdPK4IU"
      },
      "outputs": [],
      "source": [
        "tokenizer = Tokenizer(oov_token='<nothing>')\n",
        "tokenizer.fit_on_texts(docs)"
      ]
    },
    {
      "cell_type": "code",
      "execution_count": 4,
      "metadata": {
        "colab": {
          "base_uri": "https://localhost:8080/"
        },
        "id": "NMVC0xG8LhaX",
        "outputId": "cce8af7e-bcd8-43b0-d8ae-4763c8aba5e5"
      },
      "outputs": [
        {
          "output_type": "execute_result",
          "data": {
            "text/plain": [
              "{'<nothing>': 1,\n",
              " 'neural': 2,\n",
              " 'network': 3,\n",
              " 'nodes': 4,\n",
              " 'affect': 5,\n",
              " 'subsequent': 6,\n",
              " 'recurrent': 7,\n",
              " 'artificial': 8,\n",
              " 'connections': 9,\n",
              " 'between': 10,\n",
              " 'can': 11,\n",
              " 'create': 12,\n",
              " 'a': 13,\n",
              " 'cycle': 14,\n",
              " 'allowing': 15,\n",
              " 'output': 16,\n",
              " 'some': 17,\n",
              " 'to': 18,\n",
              " 'exhibit': 19,\n",
              " 'temporal': 20,\n",
              " 'dynamic': 21,\n",
              " 'behavior': 22,\n",
              " 'type': 23,\n",
              " 'of': 24}"
            ]
          },
          "metadata": {},
          "execution_count": 4
        }
      ],
      "source": [
        "tokenizer.word_index"
      ]
    },
    {
      "cell_type": "code",
      "execution_count": 5,
      "metadata": {
        "colab": {
          "base_uri": "https://localhost:8080/"
        },
        "id": "xHjt1xVmMNnH",
        "outputId": "1e4c4578-5ac5-4c20-dbe7-f8eaf42f86a5"
      },
      "outputs": [
        {
          "output_type": "execute_result",
          "data": {
            "text/plain": [
              "OrderedDict([('recurrent', 1),\n",
              "             ('neural', 4),\n",
              "             ('network', 3),\n",
              "             ('artificial', 1),\n",
              "             ('connections', 1),\n",
              "             ('between', 1),\n",
              "             ('nodes', 2),\n",
              "             ('can', 1),\n",
              "             ('create', 1),\n",
              "             ('a', 1),\n",
              "             ('cycle', 1),\n",
              "             ('allowing', 1),\n",
              "             ('output', 1),\n",
              "             ('some', 1),\n",
              "             ('to', 1),\n",
              "             ('affect', 2),\n",
              "             ('subsequent', 2),\n",
              "             ('exhibit', 1),\n",
              "             ('temporal', 1),\n",
              "             ('dynamic', 1),\n",
              "             ('behavior', 1),\n",
              "             ('type', 1),\n",
              "             ('of', 1)])"
            ]
          },
          "metadata": {},
          "execution_count": 5
        }
      ],
      "source": [
        "tokenizer.word_counts"
      ]
    },
    {
      "cell_type": "code",
      "execution_count": 6,
      "metadata": {
        "colab": {
          "base_uri": "https://localhost:8080/"
        },
        "id": "b6WBbgwyMhaO",
        "outputId": "a7cda3db-a53d-4179-ebfd-1506648c6713"
      },
      "outputs": [
        {
          "output_type": "execute_result",
          "data": {
            "text/plain": [
              "[[7, 2, 3],\n",
              " [2, 3],\n",
              " [8, 2],\n",
              " [9, 10, 4],\n",
              " [11, 12, 13, 14],\n",
              " [15, 16],\n",
              " [17, 4, 18, 5, 6],\n",
              " [19, 20],\n",
              " [21, 22],\n",
              " [23, 24, 2, 3],\n",
              " [5, 6]]"
            ]
          },
          "metadata": {},
          "execution_count": 6
        }
      ],
      "source": [
        "seq = tokenizer.texts_to_sequences(docs)\n",
        "seq"
      ]
    },
    {
      "cell_type": "code",
      "execution_count": 7,
      "metadata": {
        "colab": {
          "base_uri": "https://localhost:8080/"
        },
        "id": "RM4YHswANQKL",
        "outputId": "91994111-8ba3-43d4-bd21-049b47481310"
      },
      "outputs": [
        {
          "output_type": "execute_result",
          "data": {
            "text/plain": [
              "False"
            ]
          },
          "metadata": {},
          "execution_count": 7
        }
      ],
      "source": [
        "len(seq[2]) == len(seq[0])"
      ]
    },
    {
      "cell_type": "code",
      "execution_count": 8,
      "metadata": {
        "id": "knxT9HZBO44V"
      },
      "outputs": [],
      "source": [
        "from keras.utils import pad_sequences"
      ]
    },
    {
      "cell_type": "code",
      "execution_count": 9,
      "metadata": {
        "id": "kXSxw81DOH6h"
      },
      "outputs": [],
      "source": [
        "#we do padding because we neet len of an sequance in each vector is same so we do zero padding\n",
        "seq = pad_sequences(seq,padding='post')"
      ]
    },
    {
      "cell_type": "code",
      "execution_count": 10,
      "metadata": {
        "colab": {
          "base_uri": "https://localhost:8080/"
        },
        "id": "DbLfVR5YOv7Z",
        "outputId": "23a831c7-947d-4118-8881-603172b5184e"
      },
      "outputs": [
        {
          "output_type": "execute_result",
          "data": {
            "text/plain": [
              "array([[ 7,  2,  3,  0,  0],\n",
              "       [ 2,  3,  0,  0,  0],\n",
              "       [ 8,  2,  0,  0,  0],\n",
              "       [ 9, 10,  4,  0,  0],\n",
              "       [11, 12, 13, 14,  0],\n",
              "       [15, 16,  0,  0,  0],\n",
              "       [17,  4, 18,  5,  6],\n",
              "       [19, 20,  0,  0,  0],\n",
              "       [21, 22,  0,  0,  0],\n",
              "       [23, 24,  2,  3,  0],\n",
              "       [ 5,  6,  0,  0,  0]], dtype=int32)"
            ]
          },
          "metadata": {},
          "execution_count": 10
        }
      ],
      "source": [
        "seq"
      ]
    },
    {
      "cell_type": "code",
      "source": [
        "from keras.datasets import imdb\n",
        "from keras.preprocessing.sequence import pad_sequences\n",
        "from keras.models import Sequential\n",
        "from keras.layers import Dense, Embedding, SimpleRNN\n",
        "\n",
        "# Load the IMDb dataset\n",
        "vocab_size = 10000\n",
        "max_length = 50\n",
        "\n",
        "# Load the IMDb dataset and limit the vocabulary size\n",
        "(X_train, y_train), (X_test, y_test) = imdb.load_data(num_words=vocab_size)\n",
        "\n",
        "# Pad sequences to ensure uniform length\n",
        "X_train = pad_sequences(X_train, maxlen=max_length)\n",
        "X_test = pad_sequences(X_test, maxlen=max_length)\n",
        "\n",
        "# Define your RNN model\n",
        "model = Sequential()\n",
        "model.add(Embedding(input_dim=vocab_size, output_dim=2, input_length=max_length))\n",
        "model.add(SimpleRNN(32, return_sequences=False))\n",
        "model.add(Dense(1, activation='sigmoid'))\n",
        "\n",
        "model.summary()\n",
        "\n",
        "# Compile\n",
        "model.compile(optimizer='adam', loss='binary_crossentropy', metrics=['acc'])\n",
        "\n"
      ],
      "metadata": {
        "colab": {
          "base_uri": "https://localhost:8080/"
        },
        "id": "xw_AAtC1Ug9H",
        "outputId": "eb0cdb33-e98b-43ca-d1da-8eec6c3d695b"
      },
      "execution_count": 26,
      "outputs": [
        {
          "output_type": "stream",
          "name": "stdout",
          "text": [
            "Model: \"sequential_4\"\n",
            "_________________________________________________________________\n",
            " Layer (type)                Output Shape              Param #   \n",
            "=================================================================\n",
            " embedding_3 (Embedding)     (None, 50, 2)             20000     \n",
            "                                                                 \n",
            " simple_rnn_3 (SimpleRNN)    (None, 32)                1120      \n",
            "                                                                 \n",
            " dense_3 (Dense)             (None, 1)                 33        \n",
            "                                                                 \n",
            "=================================================================\n",
            "Total params: 21153 (82.63 KB)\n",
            "Trainable params: 21153 (82.63 KB)\n",
            "Non-trainable params: 0 (0.00 Byte)\n",
            "_________________________________________________________________\n"
          ]
        }
      ]
    },
    {
      "cell_type": "code",
      "source": [
        "#Train the model\n",
        "model.fit(X_train, y_train, epochs=20, validation_data=(X_test, y_test))"
      ],
      "metadata": {
        "colab": {
          "base_uri": "https://localhost:8080/"
        },
        "id": "RyJmfj98U2qI",
        "outputId": "2723cb2c-85a4-469e-9a46-fb3eaae56cd6"
      },
      "execution_count": 28,
      "outputs": [
        {
          "output_type": "stream",
          "name": "stdout",
          "text": [
            "Epoch 1/20\n",
            "782/782 [==============================] - 13s 16ms/step - loss: 0.4368 - acc: 0.7996 - val_loss: 0.4168 - val_acc: 0.8098\n",
            "Epoch 2/20\n",
            "782/782 [==============================] - 14s 18ms/step - loss: 0.3394 - acc: 0.8585 - val_loss: 0.4224 - val_acc: 0.8108\n",
            "Epoch 3/20\n",
            "782/782 [==============================] - 15s 19ms/step - loss: 0.2929 - acc: 0.8822 - val_loss: 0.4367 - val_acc: 0.8034\n",
            "Epoch 4/20\n",
            "782/782 [==============================] - 15s 19ms/step - loss: 0.2597 - acc: 0.8996 - val_loss: 0.4612 - val_acc: 0.8006\n",
            "Epoch 5/20\n",
            "782/782 [==============================] - 13s 16ms/step - loss: 0.2315 - acc: 0.9142 - val_loss: 0.4895 - val_acc: 0.7956\n",
            "Epoch 6/20\n",
            "782/782 [==============================] - 12s 16ms/step - loss: 0.2089 - acc: 0.9230 - val_loss: 0.5232 - val_acc: 0.7936\n",
            "Epoch 7/20\n",
            "782/782 [==============================] - 14s 18ms/step - loss: 0.1851 - acc: 0.9330 - val_loss: 0.5626 - val_acc: 0.7894\n",
            "Epoch 8/20\n",
            "782/782 [==============================] - 15s 19ms/step - loss: 0.1647 - acc: 0.9420 - val_loss: 0.6454 - val_acc: 0.7782\n",
            "Epoch 9/20\n",
            "782/782 [==============================] - 15s 20ms/step - loss: 0.1496 - acc: 0.9495 - val_loss: 0.7700 - val_acc: 0.7743\n",
            "Epoch 10/20\n",
            "782/782 [==============================] - 13s 16ms/step - loss: 0.1368 - acc: 0.9545 - val_loss: 0.6559 - val_acc: 0.7782\n",
            "Epoch 11/20\n",
            "782/782 [==============================] - 13s 16ms/step - loss: 0.1221 - acc: 0.9610 - val_loss: 0.7329 - val_acc: 0.7746\n",
            "Epoch 12/20\n",
            "782/782 [==============================] - 15s 19ms/step - loss: 0.1134 - acc: 0.9627 - val_loss: 0.7837 - val_acc: 0.7711\n",
            "Epoch 13/20\n",
            "782/782 [==============================] - 12s 16ms/step - loss: 0.1074 - acc: 0.9650 - val_loss: 0.8520 - val_acc: 0.7714\n",
            "Epoch 14/20\n",
            "782/782 [==============================] - 13s 16ms/step - loss: 0.1021 - acc: 0.9672 - val_loss: 0.8279 - val_acc: 0.7656\n",
            "Epoch 15/20\n",
            "782/782 [==============================] - 15s 19ms/step - loss: 0.0911 - acc: 0.9713 - val_loss: 0.9122 - val_acc: 0.7674\n",
            "Epoch 16/20\n",
            "782/782 [==============================] - 13s 17ms/step - loss: 0.0853 - acc: 0.9733 - val_loss: 0.9426 - val_acc: 0.7536\n",
            "Epoch 17/20\n",
            "782/782 [==============================] - 17s 21ms/step - loss: 0.0848 - acc: 0.9722 - val_loss: 0.9820 - val_acc: 0.7586\n",
            "Epoch 18/20\n",
            "782/782 [==============================] - 14s 18ms/step - loss: 0.0829 - acc: 0.9733 - val_loss: 0.9943 - val_acc: 0.7601\n",
            "Epoch 19/20\n",
            "782/782 [==============================] - 17s 21ms/step - loss: 0.0688 - acc: 0.9785 - val_loss: 1.0940 - val_acc: 0.7630\n",
            "Epoch 20/20\n",
            "782/782 [==============================] - 15s 19ms/step - loss: 0.0682 - acc: 0.9800 - val_loss: 1.1090 - val_acc: 0.7528\n"
          ]
        },
        {
          "output_type": "execute_result",
          "data": {
            "text/plain": [
              "<keras.src.callbacks.History at 0x781bb1a16650>"
            ]
          },
          "metadata": {},
          "execution_count": 28
        }
      ]
    },
    {
      "cell_type": "code",
      "source": [
        " #prediction\n",
        "\n",
        "# Use the trained model to make predictions on the test data\n",
        "predictions = model.predict(X_test)\n",
        "\n",
        "threshold = 0.5\n",
        "\n",
        "binary_predictions = (predictions > threshold).astype('int')\n",
        "\n",
        "print(\"Example Predictions:\")\n",
        "for i in range(10):\n",
        "    print(f\"Sample {i+1}: Predicted={binary_predictions[i]}, Actual={y_test[i]}\")\n"
      ],
      "metadata": {
        "colab": {
          "base_uri": "https://localhost:8080/"
        },
        "id": "cf3WAFT4iPaj",
        "outputId": "d37bf8c8-6424-4aed-ae86-0138216254af"
      },
      "execution_count": 29,
      "outputs": [
        {
          "output_type": "stream",
          "name": "stdout",
          "text": [
            "782/782 [==============================] - 5s 5ms/step\n",
            "Example Predictions:\n",
            "Sample 1: Predicted=[1], Actual=0\n",
            "Sample 2: Predicted=[1], Actual=1\n",
            "Sample 3: Predicted=[0], Actual=1\n",
            "Sample 4: Predicted=[0], Actual=0\n",
            "Sample 5: Predicted=[1], Actual=1\n",
            "Sample 6: Predicted=[1], Actual=1\n",
            "Sample 7: Predicted=[1], Actual=1\n",
            "Sample 8: Predicted=[0], Actual=0\n",
            "Sample 9: Predicted=[0], Actual=0\n",
            "Sample 10: Predicted=[1], Actual=1\n"
          ]
        }
      ]
    },
    {
      "cell_type": "code",
      "source": [],
      "metadata": {
        "id": "ak9emheNjjmT"
      },
      "execution_count": null,
      "outputs": []
    }
  ],
  "metadata": {
    "colab": {
      "provenance": []
    },
    "kernelspec": {
      "display_name": "Python 3",
      "name": "python3"
    },
    "language_info": {
      "name": "python"
    }
  },
  "nbformat": 4,
  "nbformat_minor": 0
}