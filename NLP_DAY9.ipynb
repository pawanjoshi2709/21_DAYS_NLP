{
  "nbformat": 4,
  "nbformat_minor": 0,
  "metadata": {
    "colab": {
      "provenance": []
    },
    "kernelspec": {
      "name": "python3",
      "display_name": "Python 3"
    },
    "language_info": {
      "name": "python"
    }
  },
  "cells": [
    {
      "cell_type": "code",
      "execution_count": 1,
      "metadata": {
        "id": "qfG8hriPuav0"
      },
      "outputs": [],
      "source": [
        "from keras.datasets import imdb\n",
        "from keras.preprocessing.text import Tokenizer\n",
        "from keras.utils import pad_sequences\n",
        "from keras import Sequential\n",
        "from keras.layers import Dense,Embedding,Flatten, LSTM"
      ]
    },
    {
      "cell_type": "code",
      "source": [
        "vocab_size = 10000"
      ],
      "metadata": {
        "id": "XEmNL89LugMx"
      },
      "execution_count": 2,
      "outputs": []
    },
    {
      "cell_type": "code",
      "source": [
        "(X_train,y_train),(X_test,y_test) = imdb.load_data(num_words=vocab_size)"
      ],
      "metadata": {
        "colab": {
          "base_uri": "https://localhost:8080/"
        },
        "id": "lmCx8IHFuqN0",
        "outputId": "27f35b3c-4cbe-4cf9-a945-cbeb542ac8a3"
      },
      "execution_count": 3,
      "outputs": [
        {
          "output_type": "stream",
          "name": "stdout",
          "text": [
            "Downloading data from https://storage.googleapis.com/tensorflow/tf-keras-datasets/imdb.npz\n",
            "17464789/17464789 [==============================] - 0s 0us/step\n"
          ]
        }
      ]
    },
    {
      "cell_type": "code",
      "source": [
        "X_train = pad_sequences(X_train,padding='post',maxlen=50)\n",
        "X_test = pad_sequences(X_test,padding='post',maxlen=50)"
      ],
      "metadata": {
        "id": "ED27_AUUuxOI"
      },
      "execution_count": 4,
      "outputs": []
    },
    {
      "cell_type": "code",
      "source": [
        "X_train.shape"
      ],
      "metadata": {
        "colab": {
          "base_uri": "https://localhost:8080/"
        },
        "id": "dkkCdj2Eu0Bn",
        "outputId": "1f8cdacc-80e3-4859-805a-ef51f8d567cf"
      },
      "execution_count": 5,
      "outputs": [
        {
          "output_type": "execute_result",
          "data": {
            "text/plain": [
              "(25000, 50)"
            ]
          },
          "metadata": {},
          "execution_count": 5
        }
      ]
    },
    {
      "cell_type": "code",
      "source": [
        "model = Sequential()\n",
        "model.add(Embedding(10000,output_dim=2,input_length=50))\n",
        "model.add(LSTM(32,return_sequences=False))\n",
        "model.add(Dense(1, activation='sigmoid'))\n",
        "\n",
        "model.summary()"
      ],
      "metadata": {
        "colab": {
          "base_uri": "https://localhost:8080/"
        },
        "id": "dcHab2jvu2CE",
        "outputId": "45ec68e6-36fa-42a9-f4c2-526d90b4379c"
      },
      "execution_count": 8,
      "outputs": [
        {
          "output_type": "stream",
          "name": "stdout",
          "text": [
            "Model: \"sequential_1\"\n",
            "_________________________________________________________________\n",
            " Layer (type)                Output Shape              Param #   \n",
            "=================================================================\n",
            " embedding_1 (Embedding)     (None, 50, 2)             20000     \n",
            "                                                                 \n",
            " lstm_1 (LSTM)               (None, 32)                4480      \n",
            "                                                                 \n",
            " dense_1 (Dense)             (None, 1)                 33        \n",
            "                                                                 \n",
            "=================================================================\n",
            "Total params: 24513 (95.75 KB)\n",
            "Trainable params: 24513 (95.75 KB)\n",
            "Non-trainable params: 0 (0.00 Byte)\n",
            "_________________________________________________________________\n"
          ]
        }
      ]
    },
    {
      "cell_type": "code",
      "source": [
        "model.compile(optimizer='adam', loss='binary_crossentropy', metrics=['acc'])\n",
        "history = model.fit(X_train, y_train,epochs=20,validation_data=(X_test,y_test))"
      ],
      "metadata": {
        "colab": {
          "base_uri": "https://localhost:8080/"
        },
        "id": "BRa-YygVu4_F",
        "outputId": "79809422-6fc1-461a-ad2a-4d65c59259e1"
      },
      "execution_count": 9,
      "outputs": [
        {
          "output_type": "stream",
          "name": "stdout",
          "text": [
            "Epoch 1/20\n",
            "782/782 [==============================] - 24s 28ms/step - loss: 0.5089 - acc: 0.7317 - val_loss: 0.4090 - val_acc: 0.8132\n",
            "Epoch 2/20\n",
            "782/782 [==============================] - 21s 27ms/step - loss: 0.3481 - acc: 0.8507 - val_loss: 0.3968 - val_acc: 0.8178\n",
            "Epoch 3/20\n",
            "782/782 [==============================] - 23s 29ms/step - loss: 0.2990 - acc: 0.8737 - val_loss: 0.4121 - val_acc: 0.8138\n",
            "Epoch 4/20\n",
            "782/782 [==============================] - 23s 29ms/step - loss: 0.2678 - acc: 0.8930 - val_loss: 0.4537 - val_acc: 0.8064\n",
            "Epoch 5/20\n",
            "782/782 [==============================] - 27s 34ms/step - loss: 0.2447 - acc: 0.9043 - val_loss: 0.4742 - val_acc: 0.8033\n",
            "Epoch 6/20\n",
            "782/782 [==============================] - 22s 29ms/step - loss: 0.2251 - acc: 0.9132 - val_loss: 0.4977 - val_acc: 0.7962\n",
            "Epoch 7/20\n",
            "782/782 [==============================] - 21s 27ms/step - loss: 0.2139 - acc: 0.9188 - val_loss: 0.5193 - val_acc: 0.7903\n",
            "Epoch 8/20\n",
            "782/782 [==============================] - 21s 27ms/step - loss: 0.2027 - acc: 0.9241 - val_loss: 0.5325 - val_acc: 0.7930\n",
            "Epoch 9/20\n",
            "782/782 [==============================] - 22s 28ms/step - loss: 0.1876 - acc: 0.9330 - val_loss: 0.5703 - val_acc: 0.7879\n",
            "Epoch 10/20\n",
            "782/782 [==============================] - 22s 28ms/step - loss: 0.1794 - acc: 0.9364 - val_loss: 0.6861 - val_acc: 0.7798\n",
            "Epoch 11/20\n",
            "782/782 [==============================] - 23s 29ms/step - loss: 0.1706 - acc: 0.9398 - val_loss: 0.6394 - val_acc: 0.7816\n",
            "Epoch 12/20\n",
            "782/782 [==============================] - 22s 28ms/step - loss: 0.1631 - acc: 0.9428 - val_loss: 0.6152 - val_acc: 0.7764\n",
            "Epoch 13/20\n",
            "782/782 [==============================] - 21s 27ms/step - loss: 0.1570 - acc: 0.9452 - val_loss: 0.6546 - val_acc: 0.7744\n",
            "Epoch 14/20\n",
            "782/782 [==============================] - 22s 28ms/step - loss: 0.1456 - acc: 0.9503 - val_loss: 0.7552 - val_acc: 0.7700\n",
            "Epoch 15/20\n",
            "782/782 [==============================] - 22s 28ms/step - loss: 0.1408 - acc: 0.9525 - val_loss: 0.7241 - val_acc: 0.7718\n",
            "Epoch 16/20\n",
            "782/782 [==============================] - 22s 28ms/step - loss: 0.1343 - acc: 0.9556 - val_loss: 0.7947 - val_acc: 0.7647\n",
            "Epoch 17/20\n",
            "782/782 [==============================] - 22s 28ms/step - loss: 0.1268 - acc: 0.9584 - val_loss: 0.8208 - val_acc: 0.7666\n",
            "Epoch 18/20\n",
            "782/782 [==============================] - 23s 29ms/step - loss: 0.1181 - acc: 0.9632 - val_loss: 0.8361 - val_acc: 0.7655\n",
            "Epoch 19/20\n",
            "782/782 [==============================] - 22s 28ms/step - loss: 0.1153 - acc: 0.9625 - val_loss: 0.8352 - val_acc: 0.7655\n",
            "Epoch 20/20\n",
            "782/782 [==============================] - 21s 27ms/step - loss: 0.1030 - acc: 0.9688 - val_loss: 0.8797 - val_acc: 0.7660\n"
          ]
        }
      ]
    },
    {
      "cell_type": "code",
      "source": [
        "\n",
        "predictions = model.predict(X_test)\n",
        "\n",
        "threshold = 0.5\n",
        "\n",
        "binary_predictions = (predictions > threshold).astype('int')\n",
        "\n",
        "print(\"Example Predictions:\")\n",
        "for i in range(10):\n",
        "    print(f\"Sample {i+1}: Predicted={binary_predictions[i]}, Actual={y_test[i]}\")\n"
      ],
      "metadata": {
        "colab": {
          "base_uri": "https://localhost:8080/"
        },
        "id": "1xPgRpwSvCT9",
        "outputId": "039df4a0-7bb0-4386-dd28-850e679885c5"
      },
      "execution_count": 10,
      "outputs": [
        {
          "output_type": "stream",
          "name": "stdout",
          "text": [
            "782/782 [==============================] - 6s 7ms/step\n",
            "Example Predictions:\n",
            "Sample 1: Predicted=[1], Actual=0\n",
            "Sample 2: Predicted=[1], Actual=1\n",
            "Sample 3: Predicted=[1], Actual=1\n",
            "Sample 4: Predicted=[0], Actual=0\n",
            "Sample 5: Predicted=[1], Actual=1\n",
            "Sample 6: Predicted=[0], Actual=1\n",
            "Sample 7: Predicted=[1], Actual=1\n",
            "Sample 8: Predicted=[1], Actual=0\n",
            "Sample 9: Predicted=[0], Actual=0\n",
            "Sample 10: Predicted=[1], Actual=1\n"
          ]
        }
      ]
    },
    {
      "cell_type": "code",
      "source": [],
      "metadata": {
        "id": "G9N8rSrWyMIt"
      },
      "execution_count": null,
      "outputs": []
    }
  ]
}